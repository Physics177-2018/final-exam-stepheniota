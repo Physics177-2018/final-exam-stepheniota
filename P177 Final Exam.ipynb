{
 "cells": [
  {
   "cell_type": "markdown",
   "metadata": {},
   "source": [
    "# P177: Final Exam\n",
    "Spring 2018\n",
    "\n",
    "**Due:** please complete by **Friday, June 15th**.  \n",
    "Pro-tip: do this way before then. \n",
    "\n",
    "**iEval:** please complete the [iEval](https://ieval.ucr.edu/) before **Friday, June 8th**. \n",
    "\n",
    "\n",
    "Stephen Iota"
   ]
  },
  {
   "cell_type": "markdown",
   "metadata": {},
   "source": [
    "## 1. Kaggle Tutorial \n",
    "\n",
    "1. Create a Kaggle account and navigate to the \"[Titanic: Machine Learning from Disaster](https://www.kaggle.com/c/titanic)\" competition. Read a bit about the challenge.\n",
    "\n",
    "2. Navigate to Helge Bjorland's \"[Interactive Data Science Tutorial](https://www.kaggle.com/helgejo/an-interactive-data-science-tutorial)\" that uses the Titanic dataset. (**Note:** in class we used [Rochelle Silva's tutorial](https://www.kaggle.com/rochellesilva/simple-tutorial-for-beginners), the Bjorland tutorial is probably a little more insightful.) \n",
    "\n",
    "3. **Fork** the tutorial and go through it. Run everything. You are not required to complete the \"exercises\" (cells where you have to type code), but you get extra credit if you do.\n",
    "\n",
    "4. Download the completed tutorial as a Jupyter notebook (`ipynb` file). Upload that notebook to your GitHub repository for this final."
   ]
  },
  {
   "cell_type": "markdown",
   "metadata": {},
   "source": [
    "## 2. Answer the Following Questions\n",
    "\n",
    "These are real questions where I'd like you to write a few sentences about your code. The goal is to show that you've thought carefully about your code and can say something insightful about your work. "
   ]
  },
  {
   "cell_type": "markdown",
   "metadata": {},
   "source": [
    "### a) What was your favorite homework problem? What did you learn from doing it?\n",
    "I really enjoyed **HW 7a: The Drunkard's Walk.** I thought it was fascinating how randomness can serve as a model for physical phenomenon. Although I know diffusion at the atomic level is random, it was very cool to code it up."
   ]
  },
  {
   "cell_type": "markdown",
   "metadata": {},
   "source": [
    "### b) What was the most difficult problem? What was confusing or frustrating about it?\n",
    "\n",
    "The most difficult problem was HW 7B. I still to this day do not completely understand coarse graining. I understand why we do it, but the implementation is beyond me. "
   ]
  },
  {
   "cell_type": "markdown",
   "metadata": {},
   "source": [
    "### c) In your own words, give an example of a problem where you would use Markov Chain Monte Carlo (MCMC). Briefly describe how MCMC works.\n",
    "\n",
    "I would use **MCMC** to predict  **weather patterns.** (given I had access the the data I needed...)\n",
    "\n",
    "#### Set up\n",
    "Let's say weather is binary, either it's sunny or rainy. We know the following 4 probabilies.\n",
    "$$P_{rain}(sun), \n",
    "P_{rain}(sun),  \n",
    "P_{sun}(rain),  \n",
    "P_sun{(sun)}$$\n",
    "\n",
    "1. We start with a randomly generated *microstate.* The weeks or months weather pattern randomly generated.\n",
    "2. Pick a proposed step randomly. Pick a random day. Is the following day's weather rainy or sunny?\n",
    "3. Is the step energetically favorable? Test to see using the 4 known probalilities. \n",
    "    - if it is, do it!\n",
    "    - if it is not, switch back\n",
    "4. Change the initial parameters, this is called *cooling.*\n",
    "5. Repeat process desired amount of times. \n",
    "6. Now we have a good guess of the weather for the month. \n",
    "\n",
    "We can tweak this model with initial conditions. Let's say we KNOW today it's sunny, we can code this in. If, in some other planet, every sunday it rained, we could add this as well.\n"
   ]
  },
  {
   "cell_type": "markdown",
   "metadata": {},
   "source": [
    "### d) ELI5: Pick one technical idea from the course and explain it to a five-year-old.\n",
    "\n",
    "**Riemann Sum Integration:** \n",
    "\n",
    "Let's say we want to find the area (how much space) underneath a curve on a graph. What is an easy way of doing this? In elementary school, you may be learning what the area of a rectange is. $$A = b*h$$ \n",
    "Underneath our curve, let's draw rectanges from the axis to the top of the curve. We can draw smaller and smaller rectanges, meaning we also draw more and more rectanges. Now, we add together all of the areas of each rectangles. Pretty soom, we have a very close answer to exactly how much area is under the curve on our graph."
   ]
  },
  {
   "cell_type": "markdown",
   "metadata": {},
   "source": [
    "## 3. Evaluation (not for a grade)\n",
    "\n",
    "I hope you filled out the `iEval` before Jun 8th. In this cell, please feel free to share constructive criticism about the course. What did you like? What did you not like? Are there topics that you really wish we covered or didn't cover? What should I know to be a better lecturer?\n",
    "\n",
    "I loved the class. I really like that I can now publish my notebooks to my github. I feel like I have a lot of work that I can show off, vs just saying I learned things in class.\n",
    "\n",
    "The first few weeks of the class were a bit slow, so I imagine we could have covered even more exciting things if we would have not gone so slow. But it was also nice to not be so stressed out over an upper div for the first time!\n",
    "\n",
    "I look forward to taking Particle Physics in W'19! Thank you for a wonderful quarter!"
   ]
  },
  {
   "cell_type": "markdown",
   "metadata": {},
   "source": [
    "## Closing thoughts\n",
    "\n",
    "It's been a real joy to be part of this class---I was really impressed by each of your midterm presentations and have had a lot of fun with our discussions. In whatever is ahead of you beyond this class, I look forward to hearing how you each succeed.\n",
    "\n",
    "I encourage you to make your GitHub repositories public (you may need to duplicate them) so that you can show them off to the world."
   ]
  }
 ],
 "metadata": {
  "kernelspec": {
   "display_name": "Python 3",
   "language": "python",
   "name": "python3"
  },
  "language_info": {
   "codemirror_mode": {
    "name": "ipython",
    "version": 3
   },
   "file_extension": ".py",
   "mimetype": "text/x-python",
   "name": "python",
   "nbconvert_exporter": "python",
   "pygments_lexer": "ipython3",
   "version": "3.6.4"
  }
 },
 "nbformat": 4,
 "nbformat_minor": 2
}
